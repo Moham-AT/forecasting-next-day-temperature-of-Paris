{
  "nbformat": 4,
  "nbformat_minor": 0,
  "metadata": {
    "colab": {
      "name": "class_yield_exception_exercise.ipynb",
      "provenance": [],
      "collapsed_sections": [],
      "include_colab_link": true
    },
    "kernelspec": {
      "name": "python3",
      "display_name": "Python 3"
    },
    "accelerator": "GPU"
  },
  "cells": [
    {
      "cell_type": "markdown",
      "metadata": {
        "id": "view-in-github",
        "colab_type": "text"
      },
      "source": [
        "<a href=\"https://colab.research.google.com/github/mohamad1371/forecasting-next-day-temperature-of-Paris/blob/master/class_yield_exception_exercise.ipynb\" target=\"_parent\"><img src=\"https://colab.research.google.com/assets/colab-badge.svg\" alt=\"Open In Colab\"/></a>"
      ]
    },
    {
      "cell_type": "code",
      "metadata": {
        "id": "ZojfFOhdi7aI",
        "colab_type": "code",
        "outputId": "df5e832d-5725-46a9-ec6b-71d84ed01fb8",
        "colab": {
          "base_uri": "https://localhost:8080/",
          "height": 84
        }
      },
      "source": [
        "class Computer:\n",
        "  \n",
        "  \n",
        "  f=5.34\n",
        "  \n",
        "  def __init__(self,a,b):\n",
        "\n",
        "    print(\"init computer\")\n",
        "    self.a=a\n",
        "    self.b=b\n",
        "    self.windo=self.Windows()\n",
        "    \n",
        "  def config(self):\n",
        "    d=10\n",
        "    \n",
        "    print(f\"in the floor {d}, {self.b} has {self.a} years old.\")\n",
        "    \n",
        "  @classmethod  \n",
        "  def floor_cost(cls):\n",
        "    \n",
        "    return cls.f*100\n",
        "    \n",
        "    \n",
        "  @staticmethod\n",
        "  def kirekhar(x,y):\n",
        "    \n",
        "    return x**y\n",
        "\n",
        "\n",
        "\n",
        "  class Windows:\n",
        "    \n",
        "    def __init__(self):\n",
        "      self.name=\"ten\"\n",
        "      self.version=1.114\n",
        "      \n",
        "      \n",
        "    def show(self):\n",
        "      print(f\"the windows is {self.name} and the version is {self.version}\")\n",
        "\n",
        "      \n",
        "\n",
        "class B(Computer):\n",
        "\n",
        "  def __init__(self):\n",
        "       super().__init__(10,\"ffff\")\n",
        "       \n",
        "       print(\"init B\")\n",
        "\n",
        "\n",
        "  def cc(self):\n",
        "    \n",
        "    print(\"here is def cc in class B\")\n",
        "\n",
        "b1=B()\n",
        "b1.config()\n",
        "\n",
        "class C:\n",
        "\n",
        "  def cc(self,d):\n",
        "    \n",
        "    d.config()   \n",
        "    \n",
        "d=Computer(10,\"dddad\")      \n",
        "c1=C()\n",
        "c1.cc(d)\n",
        "\n",
        "\n",
        "\n",
        "\n",
        "\n",
        "# print(b1.kirekhar(3,5))\n",
        "\n",
        "\n",
        "# c1=Computer(444,\"nnt\")\n",
        "# c2=Computer(24,\"duff\")\n",
        "# # print(Computer.floor_cost())\n",
        "# # print(c1.a)\n",
        "# # c1.config()\n",
        "# print(Computer.kirekhar(3,0))\n",
        "\n",
        "# print(c1.windo.version) \n",
        "\n",
        "window2=c2.windo\n",
        "print(window2.name)\n",
        "\n",
        "windo3=Computer.Windows()\n",
        "print(windo3.name)"
      ],
      "execution_count": 0,
      "outputs": [
        {
          "output_type": "stream",
          "text": [
            "init computer\n",
            "init B\n",
            "in the floor 10, ffff has 10 years old.\n",
            "ten\n"
          ],
          "name": "stdout"
        }
      ]
    },
    {
      "cell_type": "code",
      "metadata": {
        "id": "X1P8HCvjcpt0",
        "colab_type": "code",
        "outputId": "9d74fc54-519a-4587-ddeb-9e04a9828b61",
        "colab": {
          "base_uri": "https://localhost:8080/",
          "height": 34
        }
      },
      "source": [
        "class Ali:\n",
        "    def __init__(self,m1,m2):\n",
        "        self.m1=m1\n",
        "        self.m2=m2\n",
        "\n",
        "    def __add__(self,other):\n",
        "        m1=self.m1 + other.m1\n",
        "        m2=self.m2 + other.m2\n",
        "        s3=Ali(m1,m2)\n",
        "        return s3\n",
        "\n",
        "    def __gt__(self,other):\n",
        "\n",
        "        if self.m1+self.m2>other.m1+other.m2:\n",
        "            \n",
        "            return True \n",
        "\n",
        "        else: \n",
        "            \n",
        "            return False       \n",
        "\n",
        "s1=Ali(100,35)\n",
        "s2=Ali(12,54)\n",
        "# s3=s1+s2\n",
        "# print(s3.m2)\n",
        "\n",
        "if s1>s2:\n",
        "    print(\"oh it is True\")\n",
        "else:\n",
        "    print(\"the else is working\")   \n"
      ],
      "execution_count": 0,
      "outputs": [
        {
          "output_type": "stream",
          "text": [
            "oh it is True\n"
          ],
          "name": "stdout"
        }
      ]
    },
    {
      "cell_type": "markdown",
      "metadata": {
        "id": "JkG1FW1Ph3oc",
        "colab_type": "text"
      },
      "source": [
        "**yield** is used when we want to hold the thread (for ex. in a database ) and this thread is is such long that saving all the members will take all our memory. when a function has yield instesd of return, it is a **generator**."
      ]
    },
    {
      "cell_type": "code",
      "metadata": {
        "id": "HC_74hACPnmu",
        "colab_type": "code",
        "colab": {
          "base_uri": "https://localhost:8080/",
          "height": 202
        },
        "outputId": "6b65cad6-a2a0-49f6-d36c-8ae135ef4e65"
      },
      "source": [
        "def gen():\n",
        "\n",
        "    i=0\n",
        "    while i<=10:\n",
        "        sq=i*i\n",
        "        yield sq\n",
        "        i+=1\n",
        "\n",
        "g=gen()\n",
        "\n",
        "for i in g:\n",
        "    print(i)"
      ],
      "execution_count": 3,
      "outputs": [
        {
          "output_type": "stream",
          "text": [
            "0\n",
            "1\n",
            "4\n",
            "9\n",
            "16\n",
            "25\n",
            "36\n",
            "49\n",
            "64\n",
            "81\n",
            "100\n"
          ],
          "name": "stdout"
        }
      ]
    },
    {
      "cell_type": "markdown",
      "metadata": {
        "id": "8_ru5zh9k95m",
        "colab_type": "text"
      },
      "source": [
        "there are different types of **exeptions** that can effect our code and stop it from continuing its work. to save our sensitive code from getting stopped (after this exeptions occur) we should consider the exceptions in our code and also say what kind of error they are; in order to have better feedback about what happens. the **finally** is a good tool for ex. when we want our file to be closed after finishing its work, or even if there is problem and the code does not work properly.\n",
        "\n"
      ]
    },
    {
      "cell_type": "code",
      "metadata": {
        "id": "O7nnLVSZi41X",
        "colab_type": "code",
        "colab": {}
      },
      "source": [
        "a=5\n",
        "\n",
        "b=\"p\"\n",
        "\n",
        "try:\n",
        "    print(\"here we opened the file\")\n",
        "    print(a/b)\n",
        "\n",
        "except ZeroDivisionError as e:\n",
        "    print(f\"the error is : {e}\")\n",
        "\n",
        "except ValueError as e:\n",
        "    print(f\"the error is : {e}\")\n",
        "\n",
        "except TypeError as e:\n",
        "     print(f\"the error is : {e}\")\n",
        "\n",
        "\n",
        "except Exception as e :\n",
        "    print(f\"there is a problem and it seems to be unknown. may be it is {e}\")  \n",
        "    \n",
        "finally :\n",
        "    print(\"yes, we closed the file\")    "
      ],
      "execution_count": 0,
      "outputs": []
    },
    {
      "cell_type": "code",
      "metadata": {
        "id": "gmytFTjy49J5",
        "colab_type": "code",
        "colab": {}
      },
      "source": [
        "from time import sleep\n",
        "\n",
        "for i in range(20):\n",
        "    print(2*i)\n",
        "    sleep(2)"
      ],
      "execution_count": 0,
      "outputs": []
    },
    {
      "cell_type": "code",
      "metadata": {
        "id": "_NWXLpcS9Wgf",
        "colab_type": "code",
        "colab": {}
      },
      "source": [
        "# d=open('ew.txt','w')\n",
        "# d.write(\"kose ammat\")\n",
        "# d.close()\n",
        "\n",
        "\n",
        "# c=open('ew.txt','r')\n",
        "# print(c.readlines(1))\n",
        "\n",
        "# f=open('ew.txt','a')\n",
        "# f.write(\"\\nkiri\")\n",
        "# f.close()\n",
        "\n",
        "\n",
        "# q=open(\"rew.txt\",'w')\n",
        "# d=open('ew.txt','r')\n",
        "\n",
        "# for i in d:\n",
        "#     q.write(i)\n",
        "\n",
        "img=open(\"IMG_2.jpeg\",'rb')\n",
        "\n",
        "copy_of_img=open(\"M_pic\",'wb')\n",
        "\n",
        "for i in img:\n",
        "    copy_of_img.write(i)\n"
      ],
      "execution_count": 0,
      "outputs": []
    },
    {
      "cell_type": "markdown",
      "metadata": {
        "id": "joW9Uc8qVV5a",
        "colab_type": "text"
      },
      "source": [
        "\n",
        "this is **floor division** and gives us just the integer part if the division. is also called **int division**.:\n"
      ]
    },
    {
      "cell_type": "code",
      "metadata": {
        "id": "DikbdGKJVKKW",
        "colab_type": "code",
        "outputId": "51aaaed4-87c7-49c7-a90e-83674e8626f0",
        "colab": {
          "base_uri": "https://localhost:8080/",
          "height": 34
        }
      },
      "source": [
        "a=20\n",
        "b=3\n",
        "print(a//b)"
      ],
      "execution_count": 0,
      "outputs": [
        {
          "output_type": "stream",
          "text": [
            "6\n"
          ],
          "name": "stdout"
        }
      ]
    },
    {
      "cell_type": "markdown",
      "metadata": {
        "id": "l7WPOLOga6aY",
        "colab_type": "text"
      },
      "source": [
        "in python there is two kind of searching; one is ordinary searching which is called **linear searching**. this is used when we have small list or datasets and it does not take so much time to count all members of list. we use for or while loop to search all members of a list.\n",
        "the seceond kind of search is **binary searching** which is faster method and is good for big datasets. the mechanism is like that:\n",
        "- sort the data\n",
        "- find the index of the upper and lower bound\n",
        "- 2-find the index of the middle value, using floor division\n",
        "- compare the wanted value with the middle value\n",
        "- if they are equal-> finish\n",
        "- if mid-value is smaller-> substitiude the lower band and middle \n",
        "- do the step 2 again\n"
      ]
    },
    {
      "cell_type": "code",
      "metadata": {
        "id": "XxhKaHQxd4VU",
        "colab_type": "code",
        "colab": {
          "base_uri": "https://localhost:8080/",
          "height": 34
        },
        "outputId": "444ee543-1609-49eb-e77f-122d73da5781"
      },
      "source": [
        "\n",
        "m=-1\n",
        "def search(list,n):\n",
        "\n",
        "    l=0\n",
        "    u=len(list)-1\n",
        "    # list.sort()\n",
        "    # b=\"the given number is not in list\"\n",
        "\n",
        "    while l<=u:\n",
        "\n",
        "       mid=(l+u)//2\n",
        "       \n",
        "\n",
        "       if n==list[mid]:\n",
        "           global m\n",
        "           m=mid\n",
        "           return True      \n",
        "       else:\n",
        "           if list[mid]<n:\n",
        "               l=mid+1\n",
        "\n",
        "           else:\n",
        "               u=mid-1\n",
        "               \n",
        "\n",
        "    \n",
        "    return False\n",
        "               \n",
        "\n",
        "list=[2,3,5,6,9,11,21]\n",
        "n=10\n",
        "\n",
        "if search(list,n):\n",
        "    print(m)\n",
        "else:\n",
        "     print(\"not found\")"
      ],
      "execution_count": 11,
      "outputs": [
        {
          "output_type": "stream",
          "text": [
            "not found\n"
          ],
          "name": "stdout"
        }
      ]
    },
    {
      "cell_type": "markdown",
      "metadata": {
        "id": "3IbyMCueuT9i",
        "colab_type": "text"
      },
      "source": [
        "swapping is a concept that we repalece and substitude the value of some variables with each other. for example when have a and b, we define a variable like t and:\n",
        "- put the value of a in t\n",
        "- then put the value of b in a\n",
        "- and finally put the value of t in b\n",
        "\n",
        "there is a common kind of sorting which is called **bubble sorting**. it works like this:"
      ]
    },
    {
      "cell_type": "code",
      "metadata": {
        "id": "TyZGmdyGuSla",
        "colab_type": "code",
        "colab": {
          "base_uri": "https://localhost:8080/",
          "height": 34
        },
        "outputId": "e6ca1e33-e4b9-41e0-9817-bad63086f403"
      },
      "source": [
        "\n",
        "def sort(num):\n",
        "    for i in range(len(num)-1,0,-1):\n",
        "\n",
        "        for j in range(i):\n",
        "\n",
        "            if num[j]>num[j+1]:\n",
        "                t=num[j]\n",
        "                num[j]=num[j+1]\n",
        "                num[j+1]=t\n",
        "\n",
        "\n",
        "\n",
        "\n",
        "\n",
        "\n",
        "num=[10,2,55,23,12,54,8,71,2,6,5,4]\n",
        "sort(num)\n",
        "print(num)"
      ],
      "execution_count": 22,
      "outputs": [
        {
          "output_type": "stream",
          "text": [
            "[2, 2, 4, 5, 6, 8, 10, 12, 23, 54, 55, 71]\n"
          ],
          "name": "stdout"
        }
      ]
    },
    {
      "cell_type": "markdown",
      "metadata": {
        "id": "4WgHTaO16KvO",
        "colab_type": "text"
      },
      "source": [
        "the other kind of sorting is **selection sorting** which uses less cpu and time than the bubble one. the algorithm is like that:\n"
      ]
    },
    {
      "cell_type": "code",
      "metadata": {
        "id": "arYJ8uwi6KVZ",
        "colab_type": "code",
        "colab": {
          "base_uri": "https://localhost:8080/",
          "height": 34
        },
        "outputId": "28c81434-9132-4cbd-8ed5-1e1e96cb1f39"
      },
      "source": [
        "def sel_sort(nums):\n",
        "\n",
        "    for i in range(len(nums)):\n",
        "        mini=i\n",
        "\n",
        "        for j in range(i,len(nums)):\n",
        "\n",
        "            if nums[j]<nums[mini]:\n",
        "                mini=j\n",
        "\n",
        "        t=nums[i]\n",
        "        nums[i]=nums[mini]\n",
        "        nums[mini]=t\n",
        "\n",
        "nums=[10,2,55,23,12,54,8,71,2,6,5,4]\n",
        "sel_sort(nums)\n",
        "print(nums)"
      ],
      "execution_count": 23,
      "outputs": [
        {
          "output_type": "stream",
          "text": [
            "[2, 2, 4, 5, 6, 8, 10, 12, 23, 54, 55, 71]\n"
          ],
          "name": "stdout"
        }
      ]
    },
    {
      "cell_type": "markdown",
      "metadata": {
        "id": "stf16lbFr4a2",
        "colab_type": "text"
      },
      "source": [
        "when we use **range** in our for-loop we have this ability to say our loop to have our arbitary step. we can define it in 3th argument.\n"
      ]
    },
    {
      "cell_type": "code",
      "metadata": {
        "id": "ndRPcQSprl0a",
        "colab_type": "code",
        "colab": {
          "base_uri": "https://localhost:8080/",
          "height": 218
        },
        "outputId": "a290d6ac-d929-4c39-dd10-280b1acc1c07"
      },
      "source": [
        "for i in range(100,0,-9):\n",
        "    print(i)"
      ],
      "execution_count": 17,
      "outputs": [
        {
          "output_type": "stream",
          "text": [
            "100\n",
            "91\n",
            "82\n",
            "73\n",
            "64\n",
            "55\n",
            "46\n",
            "37\n",
            "28\n",
            "19\n",
            "10\n",
            "1\n"
          ],
          "name": "stdout"
        }
      ]
    }
  ]
}